{
 "cells": [
  {
   "cell_type": "code",
   "execution_count": null,
   "metadata": {},
   "outputs": [],
   "source": [
    "!conda install -c conda-forge jupyterthemes"
   ]
  },
  {
   "cell_type": "code",
   "execution_count": 6,
   "metadata": {},
   "outputs": [
    {
     "name": "stdout",
     "output_type": "stream",
     "text": [
      "Available Themes: \n",
      "   chesterish\n",
      "   grade3\n",
      "   gruvboxd\n",
      "   gruvboxl\n",
      "   monokai\n",
      "   oceans16\n",
      "   onedork\n",
      "   solarizedd\n",
      "   solarizedl\n"
     ]
    }
   ],
   "source": [
    "!jt -l"
   ]
  },
  {
   "cell_type": "code",
   "execution_count": 3,
   "metadata": {},
   "outputs": [],
   "source": [
    "!jt -t monokai"
   ]
  },
  {
   "cell_type": "code",
   "execution_count": null,
   "metadata": {},
   "outputs": [],
   "source": []
  },
  {
   "cell_type": "code",
   "execution_count": null,
   "metadata": {},
   "outputs": [],
   "source": []
  },
  {
   "cell_type": "code",
   "execution_count": 6,
   "metadata": {},
   "outputs": [],
   "source": [
    "import requests\n",
    "from bs4 import BeautifulSoup"
   ]
  },
  {
   "cell_type": "code",
   "execution_count": 10,
   "metadata": {},
   "outputs": [
    {
     "name": "stderr",
     "output_type": "stream",
     "text": [
      "C:\\Users\\JoseMax\\anaconda3\\lib\\site-packages\\urllib3\\connectionpool.py:1004: InsecureRequestWarning: Unverified HTTPS request is being made to host 'www.bvl.com.pe'. Adding certificate verification is strongly advised. See: https://urllib3.readthedocs.io/en/latest/advanced-usage.html#ssl-warnings\n",
      "  InsecureRequestWarning,\n"
     ]
    },
    {
     "data": {
      "text/plain": [
       "200"
      ]
     },
     "execution_count": 10,
     "metadata": {},
     "output_type": "execute_result"
    }
   ],
   "source": [
    "url_if = \"https://www.bvl.com.pe/inf_financiera72620_Q1JFQ0FQQzE.html#\"\n",
    "url_er = \"https://www.bvl.com.pe/jsp/ShowEEFF_new.jsp?Ano=2020&Trimestre=2&Rpj=OE5132&RazoSoci=CREDICORP%20CAPITAL%20PERU%20%20S.A.A.&TipoEEFF=GYP&Tipo1=T&Tipo2=I&Dsc_Correlativo=0000&Secuencia=0\"\n",
    "r = requests.get(url_if, verify=False)\n",
    "r.status_code"
   ]
  },
  {
   "cell_type": "code",
   "execution_count": 11,
   "metadata": {},
   "outputs": [
    {
     "data": {
      "text/plain": [
       "'<!DOCTYPE html PUBLIC \"-//W3C//DTD XHTML 1.0 Transitional//EN\" \"http://www.w3.org/TR/xhtml1/DTD/xhtml1-transitional.dtd\">\\n<html xmlns=\"http://www.w3.org/1999/xhtml\">\\n<head>\\n<meta http-equiv=\"Content-Type\" content=\"text/html; charset=utf-8\" />\\n<META HTTP-EQUIV=\"Pragma\" CONTENT=\"no-cache\">\\n<meta http-equiv=\"Cache-Control\" content=\"no-cache\">\\n<title>Bolsa de Valores</title>\\n<link rel=\"stylesheet\" type=\"text/css\" href=\"css/estilos.css\">\\n<script type=\"text/javascript\" src=\"js/scripts.js\"></script>\\n<script src=\"/clearbox.js\" type=\"text/javascript\"></script>\\n<link rel=\"stylesheet\" type=\"text/css\" href=\"css/estilos_mercado.css\">\\n<style type=\"text/css\">\\n<!--\\nbody{ background: url(images/fondo_mercado-b.jpg) left top repeat-x; }\\n-->\\n</style>\\n</head>\\n<script src=\"/js/cabecera_pie.js\" type=\"text/javascript\"></script>\\n<body onload=\"MM_preloadImages(\\'/images/btn_mValores-1.gif\\',\\'/images/btn_edBursatil-1.gif\\',\\'/images/btn_vbl-1.gif\\');getInf_Financiera(\\'/jsp/ShowAllEEFFxEmpresa_new.jsp?Ano=0000&Trimestre=XXX&Rpj=OE5132&Consolidador=XXX&RazoSoci=CREDICORP%20CAPITAL%20PER%DA%20S%2EA%2EA%2E&Dsc_Correlativo=0000&MENU_POPUP=0&Flg_Memoria=XXX&Tipo1=\\' + document.getElementById(\\'id_Periodo\\').value + \\'&Tipo2=\\' + document.getElementById(\\'id_Tipo\\').value);\">\\n<div id=\"divPrincipal\">\\n<div id=\"divCabecera\">\\n<div id=\"divTop\"><div id=\"divInfo\"></div>\\n<div id=\"divHerramientas\"></div>\\n</div><div class=\"clear\"></div>\\n<div id=\"divLogo\"><a href=\"/\"><img src=\"images/logo.gif\" /></a></div>\\n<div id=\"divBuscador\"></div>\\n<div class=\"clear\"></div>\\n<div id=\"divMenu\"></div>\\n<div class=\"clear\"></div>\\n<div id=\"divSubmenu\"></div>\\n<div id=\"divFranja\"></div>\\n</div>\\n<div id=\"divAccesos\"></div>\\n<div id=\"divContenido\">\\n  <div id=\"divLeftInt\">\\n  <h2>Empresas</h2>\\n  <div id=\"MenuIzq\"></div>\\n  <div class=\"separador\"></div>\\n  <div id=\"divTitularBoletin\">\\n    <h1>Publicaciones</h1>\\n  </div>\\n  <div><img src=\"images/boletin.jpg\" /></div>\\n  <div class=\"Caja\" id=\"divLinkBoletin\"></div>\\n  <div class=\"separador\"></div>\\n  <div id=\"divTitularServicios\">\\n    <h1>Servicios BVL EXS</h1>\\n  </div>\\n  <div id=\"divServBVL\"></div>\\n  </div>\\n  </div>\\n  <div id=\"divRightInt\">\\n  <p><b><u>Empresas</u> / Empresas en la BVL</b></p>\\n  <p>&nbsp;</p>\\n  <span><font size=\"+1\">Empresas con valores listados</font></span>\\n  <p>&nbsp;</p>\\n  <div id=\"divBloqueGris\">\\n    <table border=\"0\" cellspacing=\"0\" cellpadding=\"10\">\\n      <tr>\\n        <td><h2 class=\"txtRojo\">CREDICORP CAPITAL PER&Uacute; S.A.A.</h2>\\n            <em><strong>DIVERSAS</strong></em></td>\\n          </tr>\\n      </table>\\n  </div>\\n  <div id=\"divTabB\">\\n    <table width=\"100%\" border=\"0\" cellpadding=\"0\" cellspacing=\"0\">\\n      <tr>\\n            <td><a href=\"/jsp/Inf_EstadisticaGrafica.jsp?Cod_Empresa=72620&Nemonico=CRECAPC1&Listado=|CRECAPC1\">Resumen</a></td>\\n            <td><a href=\"/inf_cotizaciones72620_Q1JFQ0FQQzE.html\">Hist&oacute;rico de cotizaciones</a></td>\\n            <td><a href=\"/inf_hhii72620_Q1JFQ0FQQzE.html\">Hechos de importancia</a></td>\\n            <td><a href=\"/inf_corporativa72620_Q1JFQ0FQQzE.html\">Informaci&oacute;n corporativa</a></td>\\n            <td class=\"selected bordeRight\">Informaci&oacute;n financiera</td>\\n          </tr>\\n      </table>\\n\\n    </div>\\n  <p>&nbsp;</p>\\n  <h3>Informaci&oacute;n general  </h3>\\n  <div class=\"divBloque\">\\n  <p>La Sociedad tiene como objeto social ser una sociedad tenedora (sociedad holding) de acciones, participaciones y valores mobiliarios en general y prestar servicios de asesor&iacute;a en materia corporativa y financiera, pudiendo para ello (i) adquirir, conservar y vender acciones, bonos e instrumentos similares de sociedades an&oacute;nimas establecidas en el pa&iacute;s o en el extranjero; (ii) adquirir, conservar y vender, en la condici&oacute;n de part&iacute;cipes, certificados de participaci&oacute;n en los fondos mutuos y fondos de inversi&oacute;n; (iii) dar en garant&iacute;a valores, (iv) identificar eventuales socios para sus clientes interesados en la compra de activos o de  negocios en marcha, (v) prestar servicios de asesor&iacute;a econ&oacute;mica y financiera y valorizar activos y negocios en marcha, (vi) aceptar y cumplir mandatos, siempre que con ello se trate de promover una inversi&oacute;n, o la fusi&oacute;n y traspaso de negocios en marcha, la reestructuraci&oacute;n de pasivos, as&iacute; como aquellas compatibles con su naturaleza; y (vii) desempe&ntilde;arse como instituci&oacute;n liquidadora.</p>\\n      <p>&nbsp;</p>\\n      <table width=\"80%\" border=\"0\" cellpadding=\"0\" cellspacing=\"0\" class=\"Tablas\">\\n        <tr>\\n          <th align=\"left\" class=\"bgCeldaGuinda bordeBottom\">Indices financieros</th>\\n          <th align=\"left\" class=\"bgCeldaGuinda bordeBottom\">2016</th>\\n          <th align=\"left\" class=\"bgCeldaGuinda bordeBottom\">2017</th>\\n          <th align=\"left\" class=\"bgCeldaGuinda bordeBottom\">2018</th>\\n          <th align=\"left\" class=\"bgCeldaGuinda bordeBottom\">2019</th>\\n        </tr>\\n        <tr>\\n          <td>Liquidez</td>\\n          <td align=\"right\" class=\"bordeLeft\">107.6421</td>\\n          <td align=\"right\" class=\"bordeLeft\">44.1315</td>\\n          <td align=\"right\" class=\"bordeLeft\">243.9585</td>\\n          <td align=\"right\" class=\"bordeLeft\">10.8979</td>\\n        </tr>\\n        <tr>\\n          <td>Rotaci&oacute;n de Activos</td>\\n          <td align=\"right\" class=\"bordeLeft\">0.0000</td>\\n          <td align=\"right\" class=\"bordeLeft\">0.0000</td>\\n          <td align=\"right\" class=\"bordeLeft\">0.0000</td>\\n          <td align=\"right\" class=\"bordeLeft\">0.0000</td>\\n        </tr>\\n        <tr>\\n          <td>Solvencia</td>\\n          <td align=\"right\" class=\"bordeLeft\">0.0006</td>\\n          <td align=\"right\" class=\"bordeLeft\">0.0014</td>\\n          <td align=\"right\" class=\"bordeLeft\">0.0011</td>\\n          <td align=\"right\" class=\"bordeLeft\">0.0029</td>\\n        </tr>\\n        <tr>\\n          <td>Deuda / Patrimonio</td>\\n          <td align=\"right\" class=\"bordeLeft\">0.0006</td>\\n          <td align=\"right\" class=\"bordeLeft\">0.0014</td>\\n          <td align=\"right\" class=\"bordeLeft\">0.0011</td>\\n          <td align=\"right\" class=\"bordeLeft\">0.0029</td>\\n        </tr>\\n        <tr>\\n          <td>Rentabilidad de Actividades Ordinarias % (*)</td>\\n          <td align=\"right\" class=\"bordeLeft\">&nbsp;</td>\\n          <td align=\"right\" class=\"bordeLeft\">&nbsp;</td>\\n          <td align=\"right\" class=\"bordeLeft\">&nbsp;</td>\\n          <td align=\"right\" class=\"bordeLeft\">&nbsp;</td>\\n        </tr>\\n        <tr>\\n          <td>Rentabilidad de Patrimonio %</td>\\n          <td align=\"right\" class=\"bordeLeft\">11.3145</td>\\n          <td align=\"right\" class=\"bordeLeft\">15.8159</td>\\n          <td align=\"right\" class=\"bordeLeft\">21.7125</td>\\n          <td align=\"right\" class=\"bordeLeft\">23.6297</td>\\n        </tr>\\n        <tr>\\n          <td>Valor en libros %</td>\\n          <td align=\"right\" class=\"bordeLeft\">183.6552</td>\\n          <td align=\"right\" class=\"bordeLeft\">203.8374</td>\\n          <td align=\"right\" class=\"bordeLeft\">220.2949</td>\\n          <td align=\"right\" class=\"bordeLeft\">184.9473</td>\\n        </tr>\\n        <tr>\\n          <td>&nbsp;</td>\\n          <td align=\"right\" class=\"bordeLeft\">&nbsp;</td>\\n          <td align=\"right\" class=\"bordeLeft\">&nbsp;</td>\\n          <td align=\"right\" class=\"bordeLeft\">&nbsp;</td>\\n          <td align=\"right\" class=\"bordeLeft\">&nbsp;</td>\\n        </tr>\\n\\n      </table>\\n\\n\\n  </div>\\n  <h3>Estados financieros</h3>\\n  <div class=\"divBloque\">\\n      <p>&nbsp;</p>\\n      <table width=\"455\" border=\"0\" cellpadding=\"2\" cellspacing=\"0\">\\n        <tr>\\n          <td width=\"150\"><strong>Tipo :</strong>\\n            <select name=\"id_Tipo\" id=\"id_Tipo\" onchange=\"getInf_Financiera_Empresa(\\'/jsp/ShowAllEEFFxEmpresa_new.jsp?Ano=0000&Trimestre=XXX&Rpj=OE5132&Consolidador=XXX&RazoSoci=CREDICORP%20CAPITAL%20PER%DA%20S%2EA%2EA%2E&Dsc_Correlativo=0000&MENU_POPUP=0&Flg_Memoria=XXX&Tipo1=\\' + document.getElementById(\\'id_Periodo\\').value + \\'&Tipo2=\\' + document.getElementById(\\'id_Tipo\\').value);\">\\n            <option value=\"I\" selected>Individual</option>\\n            <option value=\"C\">Consolidada</option>\\n            </select>\\n          </td>\\n          <td width=\"225\"><strong>Periodo :</strong>\\n            <select name=\"id_Periodo\" id=\"id_Periodo\" onchange=\"getInf_Financiera_Empresa(\\'/jsp/ShowAllEEFFxEmpresa_new.jsp?Ano=0000&Trimestre=XXX&Rpj=OE5132&Consolidador=XXX&RazoSoci=CREDICORP%20CAPITAL%20PER%DA%20S%2EA%2EA%2E&Dsc_Correlativo=0000&MENU_POPUP=0&Flg_Memoria=XXX&Tipo1=\\' + document.getElementById(\\'id_Periodo\\').value + \\'&Tipo2=\\' + document.getElementById(\\'id_Tipo\\').value);\">\\n            <option value=\"T\" selected>Trimestral No Auditada</option>\\n            <option value=\"A\">Auditada Anual</option>\\n            </select>\\n          </td>\\n          <td width=\"55\"><input name=\"button\" type=\"button\" class=\"boton\" id=\"button\" value=\"Buscar\" onclick=\"getInf_Financiera_Empresa(\\'/jsp/ShowAllEEFFxEmpresa_new.jsp?Ano=0000&Trimestre=XXX&Rpj=OE5132&Consolidador=XXX&RazoSoci=CREDICORP%20CAPITAL%20PER%DA%20S%2EA%2EA%2E&Dsc_Correlativo=0000&MENU_POPUP=0&Flg_Memoria=XXX&Tipo1=\\' + document.getElementById(\\'id_Periodo\\').value + \\'&Tipo2=\\' + document.getElementById(\\'id_Tipo\\').value);\" /></td>\\n        </tr>\\n      </table>\\n\\n      <p>&nbsp;</p>\\n      <p class=\"txtRojo\"><strong>Informaci&oacute;n presentada</strong></p>\\n      <p class=\"txtRojo\">&nbsp;</p>\\n\\t  <div id=\"divEEFF\"></div>\\n<p class=\"txtNegro\"><strong><i>Revisar informaci&oacute;n remitida como Hechos de Importancia.</i></strong></p>\\n\\n  </div>\\n  </div>\\n</div>\\n  <div class=\"clear\"></div>\\n</div>\\n<div id=\"divPie\"></div>\\n<script async type=\"text/javascript\" src=\"/_Incapsula_Resource?SWJIYLWA=719d34d31c8e3a6e6fffd425f7e032f3&ns=2&cb=1320022113\"></script>\\n</body>\\n</html>\\n'"
      ]
     },
     "execution_count": 11,
     "metadata": {},
     "output_type": "execute_result"
    }
   ],
   "source": [
    "r.text"
   ]
  },
  {
   "cell_type": "code",
   "execution_count": 25,
   "metadata": {},
   "outputs": [
    {
     "name": "stderr",
     "output_type": "stream",
     "text": [
      "C:\\Users\\JoseMax\\anaconda3\\lib\\site-packages\\urllib3\\connectionpool.py:1004: InsecureRequestWarning: Unverified HTTPS request is being made to host 'www.bvl.com.pe'. Adding certificate verification is strongly advised. See: https://urllib3.readthedocs.io/en/latest/advanced-usage.html#ssl-warnings\n",
      "  InsecureRequestWarning,\n"
     ]
    },
    {
     "name": "stdout",
     "output_type": "stream",
     "text": [
      "200\n",
      "CREDICORP CAPITAL PERÚ S.A.A.\n",
      "ESTADO DE RESULTADOS / INCOME STATEMENT\n",
      "Por el Trimestre Específico del 1 de Abril de 2020 al 30 de Junio de 2020\n"
     ]
    }
   ],
   "source": [
    "def respuesta(url):\n",
    "    r = requests.get(url, verify=False)\n",
    "    print(r.status_code)\n",
    "    if not r.ok:\n",
    "        print('El servidor respondió: ', r.status_code)\n",
    "    else:\n",
    "        sopa = BeautifulSoup(r.text, 'lxml')\n",
    "        with open ('r.html', 'wb') as f:\n",
    "            f.write(sopa.prettify('utf-8'))\n",
    "    return sopa\n",
    "\n",
    "def scrapear(sopa):\n",
    "    #Empresa, etiqueta <th>\n",
    "    empresa = sopa.find('th', class_ = 'bgCeldaGuinda bordeBottom').text\n",
    "    estadof = sopa.find_all('th', class_ = 'bgCeldaGris txt11Normal')[0].text\n",
    "    periodo = sopa.find_all('th', class_ = 'bgCeldaGris txt11Normal')[2].text\n",
    "    x\n",
    "#     epsbasicotag\n",
    "    \n",
    "#     epsbasico = sopa.find_all('th', class_ = 'bgCeldaGris txt11Normal')\n",
    "#     epsdiluido = sopa.find_all('th', class_ = 'bgCeldaGris txt11Normal')\n",
    "    \n",
    "    print(empresa)\n",
    "    print(estadof)\n",
    "    print(periodo)\n",
    "    \n",
    "#     Estado Financiero\n",
    "#     Etiquetas\n",
    "    \n",
    "\n",
    "def main():\n",
    "    url_if = \"https://www.bvl.com.pe/inf_financiera72620_Q1JFQ0FQQzE.html#\"\n",
    "    url_er = \"https://www.bvl.com.pe/jsp/ShowEEFF_new.jsp?Ano=2020&Trimestre=2&Rpj=OE5132&RazoSoci=CREDICORP%20CAPITAL%20PERU%20%20S.A.A.&TipoEEFF=GYP&Tipo1=T&Tipo2=I&Dsc_Correlativo=0000&Secuencia=0\"\n",
    "    scrapear(respuesta(url_er))\n",
    "\n",
    "\n",
    "if __name__ == '__main__':\n",
    "    main()"
   ]
  },
  {
   "cell_type": "code",
   "execution_count": null,
   "metadata": {},
   "outputs": [],
   "source": []
  },
  {
   "cell_type": "code",
   "execution_count": null,
   "metadata": {},
   "outputs": [],
   "source": []
  },
  {
   "cell_type": "code",
   "execution_count": null,
   "metadata": {},
   "outputs": [],
   "source": []
  },
  {
   "cell_type": "code",
   "execution_count": null,
   "metadata": {},
   "outputs": [],
   "source": []
  },
  {
   "cell_type": "code",
   "execution_count": null,
   "metadata": {},
   "outputs": [],
   "source": []
  },
  {
   "cell_type": "code",
   "execution_count": null,
   "metadata": {},
   "outputs": [],
   "source": []
  },
  {
   "cell_type": "code",
   "execution_count": null,
   "metadata": {},
   "outputs": [],
   "source": []
  },
  {
   "cell_type": "code",
   "execution_count": null,
   "metadata": {},
   "outputs": [],
   "source": []
  },
  {
   "cell_type": "code",
   "execution_count": null,
   "metadata": {},
   "outputs": [],
   "source": []
  },
  {
   "cell_type": "code",
   "execution_count": null,
   "metadata": {},
   "outputs": [],
   "source": []
  },
  {
   "cell_type": "code",
   "execution_count": null,
   "metadata": {},
   "outputs": [],
   "source": []
  },
  {
   "cell_type": "code",
   "execution_count": null,
   "metadata": {},
   "outputs": [],
   "source": []
  },
  {
   "cell_type": "code",
   "execution_count": null,
   "metadata": {},
   "outputs": [],
   "source": []
  },
  {
   "cell_type": "code",
   "execution_count": null,
   "metadata": {},
   "outputs": [],
   "source": []
  },
  {
   "cell_type": "code",
   "execution_count": null,
   "metadata": {},
   "outputs": [],
   "source": []
  },
  {
   "cell_type": "code",
   "execution_count": null,
   "metadata": {},
   "outputs": [],
   "source": []
  }
 ],
 "metadata": {
  "kernelspec": {
   "display_name": "Python 3",
   "language": "python",
   "name": "python3"
  },
  "language_info": {
   "codemirror_mode": {
    "name": "ipython",
    "version": 3
   },
   "file_extension": ".py",
   "mimetype": "text/x-python",
   "name": "python",
   "nbconvert_exporter": "python",
   "pygments_lexer": "ipython3",
   "version": "3.7.6"
  }
 },
 "nbformat": 4,
 "nbformat_minor": 4
}
